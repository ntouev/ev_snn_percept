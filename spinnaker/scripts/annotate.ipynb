{
 "cells": [
  {
   "cell_type": "code",
   "execution_count": 1,
   "metadata": {},
   "outputs": [],
   "source": [
    "import numpy as np\n",
    "import cv2\n",
    "import os\n",
    "from numpy import genfromtxt\n",
    "import json\n",
    "import math\n",
    "\n",
    "# FPS of the generated frames by manip.m script (accumulation_dt=50ms --> FPS=20)\n",
    "ANNOT_FPS = 20\n",
    "\n",
    "# annotated line color and thickness\n",
    "color = 255\n",
    "thickness = 2\n",
    "\n",
    "root_dir = '~/ev_snn_percept/binary/sample_pavement/'"
   ]
  },
  {
   "cell_type": "code",
   "execution_count": 35,
   "metadata": {},
   "outputs": [],
   "source": [
    "# convert matlab generated csvs to png files and store them in binary/sample_pavement/png/ directory\n",
    "for filename in sorted(os.listdir(root_dir + 'csv/')):\n",
    "    img_np = genfromtxt( root_dir + 'csv/' + filename, delimiter=',')\n",
    "    img_np[img_np ==  1] = 255 # on events\n",
    "    img_np[img_np == -1] = 1   # off events\n",
    "    img_np[img_np ==  0] = 127 # background\n",
    "\n",
    "    cv2.imwrite(root_dir + '/png/' + filename.replace('.csv', '.png'), img_np)"
   ]
  },
  {
   "cell_type": "code",
   "execution_count": 36,
   "metadata": {},
   "outputs": [],
   "source": [
    "# create labelme annotations and save them in binary/sample_pavement/json/ directory\n",
    "LABELME_AFTER_FRAME = 0\n",
    "for filename in sorted(os.listdir(root_dir + 'png/')):\n",
    "    file_cnt = int(filename.replace('.png', ''))\n",
    "    if file_cnt >= LABELME_AFTER_FRAME:\n",
    "        if (not os.path.isfile(root_dir + 'json/' + filename.replace('.png', '.json'))):\n",
    "            os.system('labelme ' + root_dir + 'png/' + filename + ' -O ' + root_dir + 'json/' + filename.replace('.png', '.json'))"
   ]
  },
  {
   "cell_type": "code",
   "execution_count": 37,
   "metadata": {},
   "outputs": [],
   "source": [
    "# generate r,theta (annotated) from json files, save them in numpy format and visualize\n",
    "annot_list = []\n",
    "\n",
    "for filename in sorted(os.listdir(root_dir + 'json/')):\n",
    "    \n",
    "    # first retrieve information from json files\n",
    "    file_cnt = int(filename.replace('.json', ''))\n",
    "    \n",
    "    f = open(root_dir + 'json/' + filename)\n",
    "    data = json.load(f)\n",
    "    f.close()\n",
    "\n",
    "    data_dict = data.get('shapes')\n",
    "\n",
    "    first_point = data_dict[0]['points'][0]\n",
    "    second_point = data_dict[0]['points'][1]\n",
    "\n",
    "    # convert line represented by two x-y plane points to one r-theta polar plane point\n",
    "    # r expressed in 128 pixel range\n",
    "    # theta expressed in radians\n",
    "    if second_point[0] == first_point[0]:\n",
    "        theta = 0\n",
    "        r = second_point[0]\n",
    "    elif second_point[1] == first_point[1]:\n",
    "        theta = np.pi/2\n",
    "        r = second_point[1]\n",
    "    else:\n",
    "        theta = math.atan( -(first_point[0] - second_point[0]) / (first_point[1] - second_point[1]) )   \n",
    "        r = first_point[0]*math.cos(theta) + first_point[1]*math.sin(theta)\n",
    "    \n",
    "    # save annotations in numpy format \n",
    "    # column 1: r, column 2: theta, column 3: timestamp (msec)\n",
    "    annot_list.append((r, theta, (file_cnt+1)*(1000/ANNOT_FPS)))\n",
    "    np.save(root_dir + 'annot_pav.npy', annot_list)\n",
    "\n",
    "    # visualize\n",
    "    img = cv2.imread(root_dir + 'png/' + filename.replace('.json', '.png'))\n",
    "    start_point = (round(first_point[0]), round(first_point[1]))\n",
    "    end_point = (round(second_point[0]), round(second_point[1]))\n",
    "\n",
    "    img = cv2.line(img, start_point, end_point, color, thickness)\n",
    "    img = cv2.resize(img, (256, 256), interpolation = cv2.INTER_AREA)\n",
    "    cv2.imwrite(root_dir + 'vis_annot/' + filename.replace('.json', '.png') , img)"
   ]
  }
 ],
 "metadata": {
  "kernelspec": {
   "display_name": "Python 3.8.10 64-bit",
   "language": "python",
   "name": "python3"
  },
  "language_info": {
   "codemirror_mode": {
    "name": "ipython",
    "version": 3
   },
   "file_extension": ".py",
   "mimetype": "text/x-python",
   "name": "python",
   "nbconvert_exporter": "python",
   "pygments_lexer": "ipython3",
   "version": "3.8.10"
  },
  "orig_nbformat": 4,
  "vscode": {
   "interpreter": {
    "hash": "e7370f93d1d0cde622a1f8e1c04877d8463912d04d973331ad4851f04de6915a"
   }
  }
 },
 "nbformat": 4,
 "nbformat_minor": 2
}
